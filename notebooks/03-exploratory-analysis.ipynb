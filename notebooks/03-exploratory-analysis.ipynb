{
 "cells": [
  {
   "cell_type": "code",
   "execution_count": null,
   "id": "296d8ba8",
   "metadata": {},
   "outputs": [],
   "source": [
    "# Sample code for 03-exploratory-analysis.ipynb\n",
    "import pandas as pd\n",
    "import matplotlib.pyplot as plt\n",
    "import seaborn as sns\n",
    "\n",
    "# Load processed data\n",
    "df = pd.read_csv('../data/processed_data/falcon9_processed.csv')\n",
    "\n",
    "# Analyze success rate over time\n",
    "plt.figure(figsize=(12, 6))\n",
    "yearly_success = df.groupby(df['date'].str[:4])['landing_success'].mean()\n",
    "yearly_success.plot(kind='line', marker='o')\n",
    "plt.title('Launch Success Rate by Year')\n",
    "plt.xlabel('Year')\n",
    "plt.ylabel('Success Rate')\n",
    "plt.grid(True)\n",
    "plt.savefig('../images/visualizations/success_by_year.png')\n",
    "plt.show()\n",
    "\n",
    "# Analyze correlation between variables\n",
    "correlation_cols = ['payload_mass_kg', 'flight_number', 'landing_success', 'reused']\n",
    "corr_matrix = df[correlation_cols].corr()\n",
    "plt.figure(figsize=(10, 8))\n",
    "sns.heatmap(corr_matrix, annot=True, cmap='coolwarm')\n",
    "plt.title('Correlation Matrix')\n",
    "plt.savefig('../images/visualizations/correlation_matrix.png')\n",
    "plt.show()"
   ]
  }
 ],
 "metadata": {
  "kernelspec": {
   "display_name": "base",
   "language": "python",
   "name": "python3"
  },
  "language_info": {
   "codemirror_mode": {
    "name": "ipython",
    "version": 3
   },
   "file_extension": ".py",
   "mimetype": "text/x-python",
   "name": "python",
   "nbconvert_exporter": "python",
   "pygments_lexer": "ipython3",
   "version": "3.11.0"
  }
 },
 "nbformat": 4,
 "nbformat_minor": 5
}
