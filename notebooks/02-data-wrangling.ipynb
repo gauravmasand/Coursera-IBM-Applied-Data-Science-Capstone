{
 "cells": [
  {
   "cell_type": "code",
   "execution_count": 7,
   "id": "03fa343d",
   "metadata": {},
   "outputs": [
    {
     "name": "stderr",
     "output_type": "stream",
     "text": [
      "/var/folders/y1/7x9flqhj58bc3qpd1w9w7dq80000gn/T/ipykernel_547/2142095119.py:12: SettingWithCopyWarning: \n",
      "A value is trying to be set on a copy of a slice from a DataFrame.\n",
      "Try using .loc[row_indexer,col_indexer] = value instead\n",
      "\n",
      "See the caveats in the documentation: https://pandas.pydata.org/pandas-docs/stable/user_guide/indexing.html#returning-a-view-versus-a-copy\n",
      "  falcon9_df['landing_success'] = falcon9_df['cores'].apply(\n"
     ]
    }
   ],
   "source": [
    "# Sample code for 02-data-wrangling.ipynb\n",
    "import pandas as pd\n",
    "import numpy as np\n",
    "\n",
    "# Load raw data\n",
    "launches_df = pd.read_csv('../data/raw_data/spacex_launches_raw.csv')\n",
    "\n",
    "# Filter for Falcon 9 rockets only\n",
    "falcon9_df = launches_df[launches_df['rocket'] == '5e9d0d95eda69955f709d1eb']\n",
    "\n",
    "# Create landing success column (1 for success, 0 for failure)\n",
    "falcon9_df['landing_success'] = falcon9_df['cores'].apply(\n",
    "    lambda x: 1 if isinstance(x, str) and 'landing_success' in x and 'True' in x else 0)\n",
    "\n",
    "# # Handle missing values\n",
    "# falcon9_df['payload_mass_kg'] = falcon9_df['payload_mass_kg'].fillna(\n",
    "#     falcon9_df['payload_mass_kg'].mean())\n",
    "\n",
    "# Save processed data\n",
    "falcon9_df.to_csv('../data/processed_data/falcon9_processed.csv', index=False)"
   ]
  },
  {
   "cell_type": "code",
   "execution_count": null,
   "id": "fbf64894",
   "metadata": {},
   "outputs": [],
   "source": []
  },
  {
   "cell_type": "code",
   "execution_count": null,
   "id": "d25beafe",
   "metadata": {},
   "outputs": [],
   "source": []
  }
 ],
 "metadata": {
  "kernelspec": {
   "display_name": "base",
   "language": "python",
   "name": "python3"
  },
  "language_info": {
   "codemirror_mode": {
    "name": "ipython",
    "version": 3
   },
   "file_extension": ".py",
   "mimetype": "text/x-python",
   "name": "python",
   "nbconvert_exporter": "python",
   "pygments_lexer": "ipython3",
   "version": "3.11.0"
  }
 },
 "nbformat": 4,
 "nbformat_minor": 5
}
