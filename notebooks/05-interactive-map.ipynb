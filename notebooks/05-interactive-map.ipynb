{
 "cells": [
  {
   "cell_type": "code",
   "execution_count": null,
   "id": "aa27f2c2",
   "metadata": {},
   "outputs": [],
   "source": [
    "# Sample code for 05-interactive-map.ipynb\n",
    "import pandas as pd\n",
    "import folium\n",
    "from folium.plugins import MarkerCluster\n",
    "\n",
    "# Load processed data with launch site coordinates\n",
    "df = pd.read_csv('../data/processed_data/falcon9_processed.csv')\n",
    "\n",
    "# Create a map centered on US\n",
    "launch_map = folium.Map(location=[39.50, -98.35], zoom_start=4)\n",
    "\n",
    "# Add launch sites as markers\n",
    "marker_cluster = MarkerCluster().add_to(launch_map)\n",
    "\n",
    "for idx, row in df.iterrows():\n",
    "    if pd.notna(row['launch_site_lat']) and pd.notna(row['launch_site_long']):\n",
    "        success = 'Success' if row['landing_success'] == 1 else 'Failure'\n",
    "        color = 'green' if row['landing_success'] == 1 else 'red'\n",
    "        \n",
    "        folium.Marker(\n",
    "            location=[row['launch_site_lat'], row['launch_site_long']],\n",
    "            popup=f\"Mission: {row['mission_name']}<br>Date: {row['date']}<br>Outcome: {success}\",\n",
    "            icon=folium.Icon(color=color)\n",
    "        ).add_to(marker_cluster)\n",
    "\n",
    "# Save map\n",
    "launch_map.save('../images/visualizations/launch_sites_map.html')"
   ]
  }
 ],
 "metadata": {
  "language_info": {
   "name": "python"
  }
 },
 "nbformat": 4,
 "nbformat_minor": 5
}
