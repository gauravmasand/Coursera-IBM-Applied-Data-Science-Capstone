{
 "cells": [
  {
   "cell_type": "code",
   "execution_count": null,
   "id": "452474f8",
   "metadata": {},
   "outputs": [],
   "source": [
    "# Sample code for 04-sql-analysis.ipynb\n",
    "import pandas as pd\n",
    "import sqlite3\n",
    "import matplotlib.pyplot as plt\n",
    "\n",
    "# Load processed data\n",
    "df = pd.read_csv('../data/processed_data/falcon9_processed.csv')\n",
    "\n",
    "# Create SQLite database\n",
    "conn = sqlite3.connect(':memory:')\n",
    "df.to_sql('spacex_launches', conn, index=False)\n",
    "\n",
    "# Query 1: Success rates by launch site\n",
    "query1 = \"\"\"\n",
    "SELECT \n",
    "    launch_site, \n",
    "    COUNT(*) as total_launches,\n",
    "    SUM(landing_success) as successful_landings,\n",
    "    ROUND((SUM(landing_success) * 100.0 / COUNT(*)), 2) as success_rate\n",
    "FROM \n",
    "    spacex_launches\n",
    "GROUP BY \n",
    "    launch_site\n",
    "ORDER BY \n",
    "    success_rate DESC;\n",
    "\"\"\"\n",
    "site_success = pd.read_sql_query(query1, conn)\n",
    "print(site_success)\n",
    "\n",
    "# Visualize results\n",
    "plt.figure(figsize=(10, 6))\n",
    "site_success.plot(x='launch_site', y='success_rate', kind='bar', color='teal')\n",
    "plt.title('Success Rate by Launch Site')\n",
    "plt.ylabel('Success Rate (%)')\n",
    "plt.grid(axis='y')\n",
    "plt.savefig('../images/visualizations/success_by_site.png')\n",
    "plt.show()"
   ]
  }
 ],
 "metadata": {
  "language_info": {
   "name": "python"
  }
 },
 "nbformat": 4,
 "nbformat_minor": 5
}
